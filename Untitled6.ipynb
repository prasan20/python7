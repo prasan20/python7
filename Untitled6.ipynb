{
 "cells": [
  {
   "cell_type": "code",
   "execution_count": null,
   "id": "873f1189",
   "metadata": {},
   "outputs": [],
   "source": [
    "def func(a,b):\n",
    "    print(a+b)\n",
    "func(5,4)\n"
   ]
  },
  {
   "cell_type": "code",
   "execution_count": 2,
   "id": "ec564099",
   "metadata": {},
   "outputs": [],
   "source": [
    "def test(a,b):\n",
    "    print(\"before return\")\n",
    "    return(a+b)\n",
    "    print(\"after return\")\n",
    "    "
   ]
  },
  {
   "cell_type": "code",
   "execution_count": 3,
   "id": "55f6677c",
   "metadata": {},
   "outputs": [
    {
     "name": "stdout",
     "output_type": "stream",
     "text": [
      "before return\n"
     ]
    }
   ],
   "source": [
    "result=test(5,4)\n"
   ]
  },
  {
   "cell_type": "code",
   "execution_count": 4,
   "id": "b8e4878e",
   "metadata": {},
   "outputs": [
    {
     "name": "stdout",
     "output_type": "stream",
     "text": [
      "9\n"
     ]
    }
   ],
   "source": [
    "print(result)\n"
   ]
  },
  {
   "cell_type": "code",
   "execution_count": 5,
   "id": "6bd179f5",
   "metadata": {},
   "outputs": [
    {
     "name": "stdout",
     "output_type": "stream",
     "text": [
      "before return\n"
     ]
    }
   ],
   "source": [
    "result1=test(result,10)\n"
   ]
  },
  {
   "cell_type": "code",
   "execution_count": 6,
   "id": "f1b3fcd0",
   "metadata": {},
   "outputs": [
    {
     "name": "stdout",
     "output_type": "stream",
     "text": [
      "19\n"
     ]
    }
   ],
   "source": [
    "print(result1)"
   ]
  },
  {
   "cell_type": "code",
   "execution_count": 31,
   "id": "7ad78f4f",
   "metadata": {},
   "outputs": [
    {
     "name": "stdout",
     "output_type": "stream",
     "text": [
      "[21, 23, 25, 27, 29]\n"
     ]
    }
   ],
   "source": [
    "\n",
    "def hai(end,dtype,start=0):\n",
    "    if dtype==\"even\":\n",
    "        remainder=0\n",
    "    elif dtype==\"odd\":\n",
    "        remainder=1\n",
    "    l=[]   \n",
    "    for i in range(start,end):\n",
    "        if i%2==remainder:\n",
    "            l.append(i)\n",
    "    return l\n",
    "        \n",
    "l=hai(30,\"odd\",20)\n",
    "print(l)\n",
    "        \n"
   ]
  },
  {
   "cell_type": "code",
   "execution_count": 8,
   "id": "83dc1d08",
   "metadata": {},
   "outputs": [],
   "source": [
    "def test(a,b,c):\n",
    "    print(\"values of a is\",a)\n",
    "    print(\"values of b is\",b)\n",
    "    print(\"values of c is\",c)"
   ]
  },
  {
   "cell_type": "code",
   "execution_count": 9,
   "id": "68c23c16",
   "metadata": {},
   "outputs": [
    {
     "name": "stdout",
     "output_type": "stream",
     "text": [
      "values of a is 10\n",
      "values of b is 20\n",
      "values of c is 50\n"
     ]
    }
   ],
   "source": [
    "test(10,20,50)#pos arg"
   ]
  },
  {
   "cell_type": "code",
   "execution_count": 14,
   "id": "094e7c27",
   "metadata": {},
   "outputs": [
    {
     "name": "stdout",
     "output_type": "stream",
     "text": [
      "values of a is 50\n",
      "values of b is 10\n",
      "values of c is 20\n"
     ]
    }
   ],
   "source": [
    "test(b=10,c=20,a=50)#keyword arg"
   ]
  },
  {
   "cell_type": "code",
   "execution_count": 17,
   "id": "c6570b59",
   "metadata": {},
   "outputs": [
    {
     "ename": "SyntaxError",
     "evalue": "positional argument follows keyword argument (939638640.py, line 1)",
     "output_type": "error",
     "traceback": [
      "\u001b[1;36m  File \u001b[1;32m\"C:\\Users\\S.PRASANNA VENKATESH\\AppData\\Local\\Temp\\ipykernel_28540\\939638640.py\"\u001b[1;36m, line \u001b[1;32m1\u001b[0m\n\u001b[1;33m    test(a=10,20,c=50)\u001b[0m\n\u001b[1;37m                     ^\u001b[0m\n\u001b[1;31mSyntaxError\u001b[0m\u001b[1;31m:\u001b[0m positional argument follows keyword argument\n"
     ]
    }
   ],
   "source": [
    "test(a=10,20,c=50)"
   ]
  },
  {
   "cell_type": "code",
   "execution_count": null,
   "id": "f0df4ecc",
   "metadata": {},
   "outputs": [],
   "source": [
    "def gm(c):\n",
    "    l=[]\n",
    "    n=int(input(\"enter n\"))\n",
    "    for i in range(0,n):\n",
    "        b=int(input(\"enter values\"))\n",
    "        l.append(b)\n",
    "    l2=(sorted(l[0:c]))\n",
    "    l3=(l[c:])\n",
    "    l2.extend(l3)\n",
    "    return l2\n",
    "l2=gm(4)\n",
    "print(l2)\n"
   ]
  },
  {
   "cell_type": "code",
   "execution_count": null,
   "id": "e6708197",
   "metadata": {},
   "outputs": [],
   "source": []
  }
 ],
 "metadata": {
  "kernelspec": {
   "display_name": "Python 3 (ipykernel)",
   "language": "python",
   "name": "python3"
  },
  "language_info": {
   "codemirror_mode": {
    "name": "ipython",
    "version": 3
   },
   "file_extension": ".py",
   "mimetype": "text/x-python",
   "name": "python",
   "nbconvert_exporter": "python",
   "pygments_lexer": "ipython3",
   "version": "3.9.13"
  }
 },
 "nbformat": 4,
 "nbformat_minor": 5
}
